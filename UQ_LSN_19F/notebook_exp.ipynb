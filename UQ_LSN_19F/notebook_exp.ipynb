{
 "cells": [
  {
   "cell_type": "code",
   "execution_count": 1,
   "id": "15fcc1ea",
   "metadata": {},
   "outputs": [],
   "source": [
    "import os\n",
    "import torch\n",
    "import numpy as np\n",
    "import pandas as pd"
   ]
  },
  {
   "cell_type": "code",
   "execution_count": 2,
   "id": "d379d53b",
   "metadata": {},
   "outputs": [
    {
     "data": {
      "text/plain": [
       "'/dhc/home/masoumeh.javanbakhat/netstore-old/Baysian/3D/noise_code_pub'"
      ]
     },
     "execution_count": 2,
     "metadata": {},
     "output_type": "execute_result"
    }
   ],
   "source": [
    "pwd"
   ]
  },
  {
   "cell_type": "code",
   "execution_count": 7,
   "id": "9176f306",
   "metadata": {},
   "outputs": [
    {
     "ename": "ImportError",
     "evalue": "cannot import name 'unet' from 'unet' (/dhc/home/masoumeh.javanbakhat/netstore-old/Baysian/3D/noise_code_pub/unet.py)",
     "output_type": "error",
     "traceback": [
      "\u001b[0;31m---------------------------------------------------------------------------\u001b[0m",
      "\u001b[0;31mImportError\u001b[0m                               Traceback (most recent call last)",
      "File \u001b[0;32m~/netstore-old/Baysian/3D/noise_code_pub/train.py:35\u001b[0m, in \u001b[0;36m<module>\u001b[0;34m\u001b[0m\n\u001b[1;32m     33\u001b[0m \u001b[38;5;28;01mfrom\u001b[39;00m \u001b[38;5;21;01mUtils\u001b[39;00m\u001b[38;5;21;01m.\u001b[39;00m\u001b[38;5;21;01mutils\u001b[39;00m \u001b[38;5;28;01mimport\u001b[39;00m update_lr\n\u001b[1;32m     34\u001b[0m \u001b[38;5;28;01mfrom\u001b[39;00m \u001b[38;5;21;01mUtils\u001b[39;00m\u001b[38;5;21;01m.\u001b[39;00m\u001b[38;5;21;01mplot\u001b[39;00m \u001b[38;5;28;01mimport\u001b[39;00m plotCurves\n\u001b[0;32m---> 35\u001b[0m \u001b[38;5;28;01mfrom\u001b[39;00m \u001b[38;5;21;01munet\u001b[39;00m \u001b[38;5;28;01mimport\u001b[39;00m unet\n\u001b[1;32m     36\u001b[0m \u001b[38;5;28;01mfrom\u001b[39;00m \u001b[38;5;21;01mdice\u001b[39;00m \u001b[38;5;28;01mimport\u001b[39;00m DiceCoef, DiceLoss\n\u001b[1;32m     37\u001b[0m \u001b[38;5;28;01mfrom\u001b[39;00m \u001b[38;5;21;01mDataloader\u001b[39;00m\u001b[38;5;21;01m.\u001b[39;00m\u001b[38;5;21;01mdata\u001b[39;00m \u001b[38;5;28;01mimport\u001b[39;00m NoisedData,get_train_val_set,get_transform\n",
      "\u001b[0;31mImportError\u001b[0m: cannot import name 'unet' from 'unet' (/dhc/home/masoumeh.javanbakhat/netstore-old/Baysian/3D/noise_code_pub/unet.py)"
     ]
    }
   ],
   "source": [
    "%run /dhc/home/masoumeh.javanbakhat/netstore-old/Baysian/3D/noise_code_pub/train.py"
   ]
  },
  {
   "cell_type": "code",
   "execution_count": 14,
   "id": "ef534c1b",
   "metadata": {},
   "outputs": [
    {
     "name": "stdout",
     "output_type": "stream",
     "text": [
      "/dhc/home/masoumeh.javanbakhat/netstore-old/Baysian/3D\n"
     ]
    }
   ],
   "source": [
    "cd /dhc/home/masoumeh.javanbakhat/netstore-old/Baysian/3D"
   ]
  },
  {
   "cell_type": "code",
   "execution_count": 33,
   "id": "5d4e00d5",
   "metadata": {},
   "outputs": [],
   "source": [
    "import UQ_LSN_19F"
   ]
  },
  {
   "cell_type": "code",
   "execution_count": 34,
   "id": "5ef30f5c",
   "metadata": {},
   "outputs": [
    {
     "name": "stderr",
     "output_type": "stream",
     "text": [
      "usage: ipykernel_launcher.py [-h] [--seed SEED] [--exp EXP] [--dts DTS]\n",
      "                             [--epochs EPOCHS] [--crit {dice,BCrsent,comb}]\n",
      "                             [--scale SCALE] [--opt {sgd,sghm,sgld}]\n",
      "                             [--mom MOM] [--weight_decay WEIGHT_DECAY]\n",
      "                             [--prior {None,norm}] [--addnoise ADDNOISE]\n",
      "                             [--temp TEMP] [--epoch-inject EPOCH_INJECT]\n",
      "                             [--save_sample SAVE_SAMPLE]\n",
      "                             [--sampling_start SAMPLING_START]\n",
      "                             [--samples SAMPLES] [--lr0 LR0]\n",
      "                             [--lr-sch {None,fixed,cyclic}]\n",
      "                             [--n-sam-cycle N_SAM_CYCLE]\n",
      "                             [--cycle-length CYCLE_LENGTH] [--dr DR]\n",
      "                             [--n_filter N_FILTER] [--bil BIL]\n",
      "                             [--activation ACTIVATION] [--tr {inter,padd}]\n",
      "                             [--in_size IN_SIZE] [--rm_out RM_OUT] [--nr NR]\n",
      "                             [--test_size TEST_SIZE] [--val_size VAL_SIZE]\n",
      "                             [--b_size_tr B_SIZE_TR] [--b_size_val B_SIZE_VAL]\n",
      "                             [--n_workers N_WORKERS] [--save_tr_vl SAVE_TR_VL]\n",
      "                             [--tr-evl TR_EVL] [--syn SYN] [--trans TRANS]\n",
      "                             [--pad PAD] [--flip-rate FLIP_RATE] [--plot PLOT]\n",
      "ipykernel_launcher.py: error: unrecognized arguments: -f /dhc/home/masoumeh.javanbakhat/.local/share/jupyter/runtime/kernel-5cf657b7-e9d6-4c88-8ac6-a85e91b36b6a.json\n"
     ]
    },
    {
     "ename": "SystemExit",
     "evalue": "2",
     "output_type": "error",
     "traceback": [
      "An exception has occurred, use %tb to see the full traceback.\n",
      "\u001b[0;31mSystemExit\u001b[0m\u001b[0;31m:\u001b[0m 2\n"
     ]
    }
   ],
   "source": [
    "from UQ_LSN_19F import train"
   ]
  },
  {
   "cell_type": "code",
   "execution_count": 35,
   "id": "3b099374",
   "metadata": {},
   "outputs": [],
   "source": [
    "import UQ_LSN_19F"
   ]
  },
  {
   "cell_type": "code",
   "execution_count": 36,
   "id": "141e9194",
   "metadata": {},
   "outputs": [
    {
     "data": {
      "text/plain": [
       "<module 'UQ_LSN_19F' (namespace)>"
      ]
     },
     "execution_count": 36,
     "metadata": {},
     "output_type": "execute_result"
    }
   ],
   "source": [
    "UQ_LSN_19F"
   ]
  },
  {
   "cell_type": "code",
   "execution_count": 37,
   "id": "31022d03",
   "metadata": {},
   "outputs": [],
   "source": [
    "from UQ_LSN_19F import Utils"
   ]
  },
  {
   "cell_type": "code",
   "execution_count": 38,
   "id": "9a50d649",
   "metadata": {},
   "outputs": [
    {
     "data": {
      "text/plain": [
       "<module 'UQ_LSN_19F.Utils' (namespace)>"
      ]
     },
     "execution_count": 38,
     "metadata": {},
     "output_type": "execute_result"
    }
   ],
   "source": [
    "UQ_LSN_19F.Utils"
   ]
  },
  {
   "cell_type": "code",
   "execution_count": 39,
   "id": "1acc8643",
   "metadata": {},
   "outputs": [
    {
     "name": "stderr",
     "output_type": "stream",
     "text": [
      "usage: ipykernel_launcher.py [-h] [--seed SEED] [--exp EXP] [--dts DTS]\n",
      "                             [--epochs EPOCHS] [--crit {dice,BCrsent,comb}]\n",
      "                             [--scale SCALE] [--opt {sgd,sghm,sgld}]\n",
      "                             [--mom MOM] [--weight_decay WEIGHT_DECAY]\n",
      "                             [--prior {None,norm}] [--addnoise ADDNOISE]\n",
      "                             [--temp TEMP] [--epoch-inject EPOCH_INJECT]\n",
      "                             [--save_sample SAVE_SAMPLE]\n",
      "                             [--sampling_start SAMPLING_START]\n",
      "                             [--samples SAMPLES] [--lr0 LR0]\n",
      "                             [--lr-sch {None,fixed,cyclic}]\n",
      "                             [--n-sam-cycle N_SAM_CYCLE]\n",
      "                             [--cycle-length CYCLE_LENGTH] [--dr DR]\n",
      "                             [--n_filter N_FILTER] [--bil BIL]\n",
      "                             [--activation ACTIVATION] [--tr {inter,padd}]\n",
      "                             [--in_size IN_SIZE] [--rm_out RM_OUT] [--nr NR]\n",
      "                             [--test_size TEST_SIZE] [--val_size VAL_SIZE]\n",
      "                             [--b_size_tr B_SIZE_TR] [--b_size_val B_SIZE_VAL]\n",
      "                             [--n_workers N_WORKERS] [--save_tr_vl SAVE_TR_VL]\n",
      "                             [--tr-evl TR_EVL] [--syn SYN] [--trans TRANS]\n",
      "                             [--pad PAD] [--flip-rate FLIP_RATE] [--plot PLOT]\n",
      "ipykernel_launcher.py: error: unrecognized arguments: -f /dhc/home/masoumeh.javanbakhat/.local/share/jupyter/runtime/kernel-5cf657b7-e9d6-4c88-8ac6-a85e91b36b6a.json\n"
     ]
    },
    {
     "ename": "SystemExit",
     "evalue": "2",
     "output_type": "error",
     "traceback": [
      "An exception has occurred, use %tb to see the full traceback.\n",
      "\u001b[0;31mSystemExit\u001b[0m\u001b[0;31m:\u001b[0m 2\n"
     ]
    }
   ],
   "source": [
    "from UQ_LSN_19F import train"
   ]
  },
  {
   "cell_type": "code",
   "execution_count": 40,
   "id": "3d19c941",
   "metadata": {},
   "outputs": [
    {
     "ename": "SystemExit",
     "evalue": "2",
     "output_type": "error",
     "traceback": [
      "\u001b[0;31m---------------------------------------------------------------------------\u001b[0m",
      "\u001b[0;31mSystemExit\u001b[0m                                Traceback (most recent call last)",
      "Input \u001b[0;32mIn [39]\u001b[0m, in \u001b[0;36m<cell line: 1>\u001b[0;34m()\u001b[0m\n\u001b[0;32m----> 1\u001b[0m \u001b[38;5;28;01mfrom\u001b[39;00m \u001b[38;5;21;01mUQ_LSN_19F\u001b[39;00m \u001b[38;5;28;01mimport\u001b[39;00m train\n",
      "File \u001b[0;32m~/netstore-old/Baysian/3D/UQ_LSN_19F/train.py:169\u001b[0m, in \u001b[0;36m<module>\u001b[0;34m\u001b[0m\n\u001b[1;32m    165\u001b[0m \u001b[38;5;66;03m# Plot\u001b[39;00m\n\u001b[1;32m    166\u001b[0m parser\u001b[38;5;241m.\u001b[39madd_argument(\u001b[38;5;124m'\u001b[39m\u001b[38;5;124m--plot\u001b[39m\u001b[38;5;124m'\u001b[39m,\u001b[38;5;28mtype\u001b[39m\u001b[38;5;241m=\u001b[39m\u001b[38;5;28mbool\u001b[39m, default\u001b[38;5;241m=\u001b[39m\u001b[38;5;28;01mTrue\u001b[39;00m, \n\u001b[1;32m    167\u001b[0m                         help \u001b[38;5;241m=\u001b[39m \u001b[38;5;124m'\u001b[39m\u001b[38;5;124mIf we want to plot lr curve or not.\u001b[39m\u001b[38;5;124m'\u001b[39m)\n\u001b[0;32m--> 169\u001b[0m args \u001b[38;5;241m=\u001b[39m \u001b[43mparser\u001b[49m\u001b[38;5;241;43m.\u001b[39;49m\u001b[43mparse_args\u001b[49m\u001b[43m(\u001b[49m\u001b[43m)\u001b[49m\n\u001b[1;32m    172\u001b[0m DEFAULT_ALPHA \u001b[38;5;241m=\u001b[39m \u001b[38;5;241m0.99\u001b[39m\n\u001b[1;32m    173\u001b[0m DEFAULT_EPSILON \u001b[38;5;241m=\u001b[39m \u001b[38;5;241m1e-7\u001b[39m\n",
      "File \u001b[0;32m~/anaconda3/envs/myenv2/lib/python3.9/argparse.py:1827\u001b[0m, in \u001b[0;36mArgumentParser.parse_args\u001b[0;34m(self, args, namespace)\u001b[0m\n\u001b[1;32m   1825\u001b[0m \u001b[38;5;28;01mif\u001b[39;00m argv:\n\u001b[1;32m   1826\u001b[0m     msg \u001b[38;5;241m=\u001b[39m _(\u001b[38;5;124m'\u001b[39m\u001b[38;5;124munrecognized arguments: \u001b[39m\u001b[38;5;132;01m%s\u001b[39;00m\u001b[38;5;124m'\u001b[39m)\n\u001b[0;32m-> 1827\u001b[0m     \u001b[38;5;28;43mself\u001b[39;49m\u001b[38;5;241;43m.\u001b[39;49m\u001b[43merror\u001b[49m\u001b[43m(\u001b[49m\u001b[43mmsg\u001b[49m\u001b[43m \u001b[49m\u001b[38;5;241;43m%\u001b[39;49m\u001b[43m \u001b[49m\u001b[38;5;124;43m'\u001b[39;49m\u001b[38;5;124;43m \u001b[39;49m\u001b[38;5;124;43m'\u001b[39;49m\u001b[38;5;241;43m.\u001b[39;49m\u001b[43mjoin\u001b[49m\u001b[43m(\u001b[49m\u001b[43margv\u001b[49m\u001b[43m)\u001b[49m\u001b[43m)\u001b[49m\n\u001b[1;32m   1828\u001b[0m \u001b[38;5;28;01mreturn\u001b[39;00m args\n",
      "File \u001b[0;32m~/anaconda3/envs/myenv2/lib/python3.9/argparse.py:2581\u001b[0m, in \u001b[0;36mArgumentParser.error\u001b[0;34m(self, message)\u001b[0m\n\u001b[1;32m   2579\u001b[0m \u001b[38;5;28mself\u001b[39m\u001b[38;5;241m.\u001b[39mprint_usage(_sys\u001b[38;5;241m.\u001b[39mstderr)\n\u001b[1;32m   2580\u001b[0m args \u001b[38;5;241m=\u001b[39m {\u001b[38;5;124m'\u001b[39m\u001b[38;5;124mprog\u001b[39m\u001b[38;5;124m'\u001b[39m: \u001b[38;5;28mself\u001b[39m\u001b[38;5;241m.\u001b[39mprog, \u001b[38;5;124m'\u001b[39m\u001b[38;5;124mmessage\u001b[39m\u001b[38;5;124m'\u001b[39m: message}\n\u001b[0;32m-> 2581\u001b[0m \u001b[38;5;28;43mself\u001b[39;49m\u001b[38;5;241;43m.\u001b[39;49m\u001b[43mexit\u001b[49m\u001b[43m(\u001b[49m\u001b[38;5;241;43m2\u001b[39;49m\u001b[43m,\u001b[49m\u001b[43m \u001b[49m\u001b[43m_\u001b[49m\u001b[43m(\u001b[49m\u001b[38;5;124;43m'\u001b[39;49m\u001b[38;5;132;43;01m%(prog)s\u001b[39;49;00m\u001b[38;5;124;43m: error: \u001b[39;49m\u001b[38;5;132;43;01m%(message)s\u001b[39;49;00m\u001b[38;5;130;43;01m\\n\u001b[39;49;00m\u001b[38;5;124;43m'\u001b[39;49m\u001b[43m)\u001b[49m\u001b[43m \u001b[49m\u001b[38;5;241;43m%\u001b[39;49m\u001b[43m \u001b[49m\u001b[43margs\u001b[49m\u001b[43m)\u001b[49m\n",
      "File \u001b[0;32m~/anaconda3/envs/myenv2/lib/python3.9/argparse.py:2568\u001b[0m, in \u001b[0;36mArgumentParser.exit\u001b[0;34m(self, status, message)\u001b[0m\n\u001b[1;32m   2566\u001b[0m \u001b[38;5;28;01mif\u001b[39;00m message:\n\u001b[1;32m   2567\u001b[0m     \u001b[38;5;28mself\u001b[39m\u001b[38;5;241m.\u001b[39m_print_message(message, _sys\u001b[38;5;241m.\u001b[39mstderr)\n\u001b[0;32m-> 2568\u001b[0m \u001b[43m_sys\u001b[49m\u001b[38;5;241;43m.\u001b[39;49m\u001b[43mexit\u001b[49m\u001b[43m(\u001b[49m\u001b[43mstatus\u001b[49m\u001b[43m)\u001b[49m\n",
      "\u001b[0;31mSystemExit\u001b[0m: 2"
     ]
    }
   ],
   "source": [
    "%tb\n"
   ]
  },
  {
   "cell_type": "code",
   "execution_count": 26,
   "id": "d3518469",
   "metadata": {},
   "outputs": [
    {
     "name": "stdout",
     "output_type": "stream",
     "text": [
      "/dhc/home/masoumeh.javanbakhat/netstore-old/Baysian/3D/UQ_LSN_19F\n"
     ]
    }
   ],
   "source": [
    "cd ./UQ_LSN_19F"
   ]
  },
  {
   "cell_type": "code",
   "execution_count": 27,
   "id": "f1670609",
   "metadata": {},
   "outputs": [
    {
     "data": {
      "text/plain": [
       "'/dhc/home/masoumeh.javanbakhat/netstore-old/Baysian/3D/UQ_LSN_19F'"
      ]
     },
     "execution_count": 27,
     "metadata": {},
     "output_type": "execute_result"
    }
   ],
   "source": [
    "pwd"
   ]
  },
  {
   "cell_type": "code",
   "execution_count": 28,
   "id": "9c71f428",
   "metadata": {},
   "outputs": [
    {
     "ename": "ImportError",
     "evalue": "attempted relative import with no known parent package",
     "output_type": "error",
     "traceback": [
      "\u001b[0;31m---------------------------------------------------------------------------\u001b[0m",
      "\u001b[0;31mImportError\u001b[0m                               Traceback (most recent call last)",
      "Input \u001b[0;32mIn [28]\u001b[0m, in \u001b[0;36m<cell line: 1>\u001b[0;34m()\u001b[0m\n\u001b[0;32m----> 1\u001b[0m \u001b[38;5;28;01mfrom\u001b[39;00m \u001b[38;5;21;01m.\u001b[39;00m \u001b[38;5;28;01mimport\u001b[39;00m \u001b[38;5;241m*\u001b[39m\n",
      "\u001b[0;31mImportError\u001b[0m: attempted relative import with no known parent package"
     ]
    }
   ],
   "source": [
    "from . import *"
   ]
  },
  {
   "cell_type": "code",
   "execution_count": 43,
   "id": "8012d53e",
   "metadata": {},
   "outputs": [
    {
     "data": {
      "text/plain": [
       "'/dhc/home/masoumeh.javanbakhat/netstore-old/Baysian/3D/UQ_LSN_19F'"
      ]
     },
     "execution_count": 43,
     "metadata": {},
     "output_type": "execute_result"
    }
   ],
   "source": [
    "pwd"
   ]
  },
  {
   "cell_type": "code",
   "execution_count": 52,
   "id": "68f72d5c",
   "metadata": {},
   "outputs": [
    {
     "ename": "FileNotFoundError",
     "evalue": "[Errno 2] No such file or directory: 'UQ_LSN_19F/params/900_noise_param.json'",
     "output_type": "error",
     "traceback": [
      "\u001b[0;31m---------------------------------------------------------------------------\u001b[0m",
      "\u001b[0;31mFileNotFoundError\u001b[0m                         Traceback (most recent call last)",
      "File \u001b[0;32m~/netstore-old/Baysian/3D/UQ_LSN_19F/train.py:531\u001b[0m, in \u001b[0;36m<module>\u001b[0;34m\u001b[0m\n\u001b[1;32m    525\u001b[0m     \u001b[38;5;28mprint\u001b[39m(\u001b[38;5;124mf\u001b[39m\u001b[38;5;124m'\u001b[39m\u001b[38;5;124mfinish training\u001b[39m\u001b[38;5;124m'\u001b[39m)\n\u001b[1;32m    529\u001b[0m \u001b[38;5;28;01mif\u001b[39;00m \u001b[38;5;18m__name__\u001b[39m\u001b[38;5;241m==\u001b[39m\u001b[38;5;124m'\u001b[39m\u001b[38;5;124m__main__\u001b[39m\u001b[38;5;124m'\u001b[39m:\n\u001b[0;32m--> 531\u001b[0m     \u001b[43mmain\u001b[49m\u001b[43m(\u001b[49m\u001b[43margs\u001b[49m\u001b[43m)\u001b[49m\n",
      "File \u001b[0;32m~/netstore-old/Baysian/3D/UQ_LSN_19F/train.py:193\u001b[0m, in \u001b[0;36mmain\u001b[0;34m(args)\u001b[0m\n\u001b[1;32m    190\u001b[0m     torch.cuda.set_device(device)\n\u001b[1;32m    192\u001b[0m HPD = vars(args)\n\u001b[0;32m--> 193\u001b[0m #with open(root_dir / 'params' / f'{args.exp}_noise_param.json','w') as file:\n\u001b[1;32m    194\u001b[0m #    json.dump(HPD,file,indent=4)\n\u001b[1;32m    197\u001b[0m path_data = root_dir / 'Data'\n\u001b[1;32m    198\u001b[0m save_dir = root_dir / 'ckpts'\n",
      "\u001b[0;31mFileNotFoundError\u001b[0m: [Errno 2] No such file or directory: 'UQ_LSN_19F/params/900_noise_param.json'"
     ]
    }
   ],
   "source": [
    "%run './train.py'"
   ]
  },
  {
   "cell_type": "code",
   "execution_count": 51,
   "id": "9ceb740c",
   "metadata": {},
   "outputs": [
    {
     "data": {
      "text/plain": [
       "'/dhc/home/masoumeh.javanbakhat/netstore-old/Baysian/3D/UQ_LSN_19F'"
      ]
     },
     "execution_count": 51,
     "metadata": {},
     "output_type": "execute_result"
    }
   ],
   "source": [
    "pwd"
   ]
  },
  {
   "cell_type": "code",
   "execution_count": null,
   "id": "9ffaf06a",
   "metadata": {},
   "outputs": [],
   "source": []
  },
  {
   "cell_type": "code",
   "execution_count": null,
   "id": "db257d9e",
   "metadata": {},
   "outputs": [],
   "source": []
  }
 ],
 "metadata": {
  "kernelspec": {
   "display_name": "Python 3 (ipykernel)",
   "language": "python",
   "name": "python3"
  },
  "language_info": {
   "codemirror_mode": {
    "name": "ipython",
    "version": 3
   },
   "file_extension": ".py",
   "mimetype": "text/x-python",
   "name": "python",
   "nbconvert_exporter": "python",
   "pygments_lexer": "ipython3",
   "version": "3.9.12"
  }
 },
 "nbformat": 4,
 "nbformat_minor": 5
}
